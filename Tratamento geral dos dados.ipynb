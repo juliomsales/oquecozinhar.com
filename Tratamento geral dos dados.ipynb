{
 "cells": [
  {
   "cell_type": "markdown",
   "metadata": {},
   "source": [
    "**Notebook com a preparação dos dados para o projeto do site oquecozinhar.com**"
   ]
  },
  {
   "cell_type": "markdown",
   "metadata": {},
   "source": [
    "# Preparação"
   ]
  },
  {
   "cell_type": "markdown",
   "metadata": {
    "heading_collapsed": true
   },
   "source": [
    "### Importando bibliotecas e dados"
   ]
  },
  {
   "cell_type": "code",
   "execution_count": 1,
   "metadata": {
    "ExecuteTime": {
     "end_time": "2020-10-24T23:00:52.893599Z",
     "start_time": "2020-10-24T23:00:51.986367Z"
    },
    "hidden": true
   },
   "outputs": [],
   "source": [
    "import pandas as pd\n",
    "import numpy as np\n",
    "import re\n",
    "import seaborn as sns\n",
    "\n",
    "sns.set(rc={'figure.figsize':(11.7,8.27)})\n",
    "sns.set_style({\"axes.facecolor\": \"0.9\", 'axes.grid' : True})\n",
    "sns.set_palette(\"Accent\")"
   ]
  },
  {
   "cell_type": "code",
   "execution_count": 2,
   "metadata": {
    "ExecuteTime": {
     "end_time": "2020-10-24T23:00:56.192222Z",
     "start_time": "2020-10-24T23:00:52.895595Z"
    },
    "hidden": true
   },
   "outputs": [],
   "source": [
    "dados1 = pd.read_json('ReceitasTudoGostoso1.json')\n",
    "dados2 = pd.read_json('ReceitasTudoGostoso2.json')\n",
    "dados3 = pd.read_json('ReceitasTudoGostoso3.json')\n",
    "dados4 = pd.read_json('ReceitasTudoGostoso4.json')\n",
    "dados5 = pd.read_json('ReceitasTudoGostoso5.json')\n",
    "dados6 = pd.read_json('ReceitasTudoGostoso6.json')\n",
    "dados7 = pd.read_json('ReceitasTudoGostoso7.json')\n",
    "dados8 = pd.read_json('ReceitasTudoGostoso8.json')\n",
    "dados9 = pd.read_json('ReceitasTudoGostoso9.json')\n",
    "dados10 = pd.read_json('ReceitasTudoGostoso10.json')\n",
    "dados11 = pd.read_json('ReceitasTudoGostoso11.json')\n",
    "dados12 = pd.read_json('ReceitasTudoGostoso12.json')\n",
    "dados13 = pd.read_json('ReceitasTudoGostoso13.json')\n",
    "dados14 = pd.read_json('ReceitasTudoGostoso14.json')\n",
    "dados15 = pd.read_json('ReceitasTudoGostoso15.json')\n",
    "dados16 = pd.read_json('ReceitasTudoGostoso16.json')\n",
    "dados17 = pd.read_json('ReceitasTudoGostoso17.json')\n",
    "dados18 = pd.read_json('ReceitasTudoGostoso18.json')\n",
    "dados19 = pd.read_json('ReceitasTudoGostoso19.json')\n",
    "dados20 = pd.read_json('ReceitasTudoGostoso20.json')\n",
    "dados21 = pd.read_json('ReceitasTudoGostoso21.json')\n",
    "dados22 = pd.read_json('ReceitasTudoGostoso22.json')\n",
    "dados23 = pd.read_json('ReceitasTudoGostoso23.json')\n",
    "dados24 = pd.read_json('ReceitasTudoGostoso24.json')\n",
    "dados25 = pd.read_json('ReceitasTudoGostoso25.json')\n",
    "\n",
    "dados = pd.concat([\n",
    "    dados1, dados2, dados3, dados4, dados5, dados6, dados7, dados8, dados9,\n",
    "    dados10, dados11, dados12, dados13, dados14, dados15, dados16, dados17,\n",
    "    dados18, dados19, dados20, dados21, dados22, dados23, dados24, dados25\n",
    "],\n",
    "                  axis=0)"
   ]
  },
  {
   "cell_type": "markdown",
   "metadata": {
    "heading_collapsed": true
   },
   "source": [
    "### Tratamento prévio"
   ]
  },
  {
   "cell_type": "code",
   "execution_count": 3,
   "metadata": {
    "ExecuteTime": {
     "end_time": "2020-10-24T23:00:56.222560Z",
     "start_time": "2020-10-24T23:00:56.193216Z"
    },
    "hidden": true
   },
   "outputs": [
    {
     "data": {
      "text/html": [
       "<div>\n",
       "<style scoped>\n",
       "    .dataframe tbody tr th:only-of-type {\n",
       "        vertical-align: middle;\n",
       "    }\n",
       "\n",
       "    .dataframe tbody tr th {\n",
       "        vertical-align: top;\n",
       "    }\n",
       "\n",
       "    .dataframe thead th {\n",
       "        text-align: right;\n",
       "    }\n",
       "</style>\n",
       "<table border=\"1\" class=\"dataframe\">\n",
       "  <thead>\n",
       "    <tr style=\"text-align: right;\">\n",
       "      <th></th>\n",
       "      <th>LINK</th>\n",
       "      <th>RECEITA</th>\n",
       "      <th>TIPO</th>\n",
       "      <th>PREPARO</th>\n",
       "      <th>RENDIMENTO</th>\n",
       "      <th>INGREDIENTES</th>\n",
       "      <th>MODO DE PREPARO</th>\n",
       "      <th>FAVORITOS</th>\n",
       "    </tr>\n",
       "  </thead>\n",
       "  <tbody>\n",
       "    <tr>\n",
       "      <th>0</th>\n",
       "      <td>https://www.tudogostoso.com.br/receita/16-mous...</td>\n",
       "      <td>Mousse de maracujá fácil</td>\n",
       "      <td>Rápida</td>\n",
       "      <td>15 MIN</td>\n",
       "      <td>6 porções</td>\n",
       "      <td>[2 caixas de gelatina de maracujá, 2 xícaras d...</td>\n",
       "      <td>[Prepare a gelatina com a água quente., Depois...</td>\n",
       "      <td>108.978</td>\n",
       "    </tr>\n",
       "    <tr>\n",
       "      <th>1</th>\n",
       "      <td>https://www.tudogostoso.com.br/receita/17-tort...</td>\n",
       "      <td>Torta alemã de maçã</td>\n",
       "      <td>None</td>\n",
       "      <td>90 MIN</td>\n",
       "      <td>12 porções</td>\n",
       "      <td>{'MASSA:': ['300 gr de farinha', '200 gr de ma...</td>\n",
       "      <td>{'MASSA:': ['Misture bem a manteiga com o açúc...</td>\n",
       "      <td>6.473</td>\n",
       "    </tr>\n",
       "    <tr>\n",
       "      <th>2</th>\n",
       "      <td>https://www.tudogostoso.com.br/receita/19-amen...</td>\n",
       "      <td>Amendoim Doce Crocante</td>\n",
       "      <td>None</td>\n",
       "      <td>60 MIN</td>\n",
       "      <td>12 porções</td>\n",
       "      <td>[3 xícaras de açúcar, 1/2 xícara de café (feit...</td>\n",
       "      <td>[Coloque numa panela o café e o açúcar e leve ...</td>\n",
       "      <td>2.212</td>\n",
       "    </tr>\n",
       "    <tr>\n",
       "      <th>3</th>\n",
       "      <td>https://www.tudogostoso.com.br/receita/20-bana...</td>\n",
       "      <td>Banana da Terra Caramelada</td>\n",
       "      <td>None</td>\n",
       "      <td>80 MIN</td>\n",
       "      <td>6 porções</td>\n",
       "      <td>[3 bananas-da-terra maduras, 1 xícara de água,...</td>\n",
       "      <td>[Junte a água, o açúcar e a manteiga numa frig...</td>\n",
       "      <td>3.618</td>\n",
       "    </tr>\n",
       "    <tr>\n",
       "      <th>4</th>\n",
       "      <td>https://www.tudogostoso.com.br/receita/21-boli...</td>\n",
       "      <td>Bolinhas de queijo</td>\n",
       "      <td>None</td>\n",
       "      <td>30 MIN</td>\n",
       "      <td>6 porções</td>\n",
       "      <td>[1/2 xícara de chá de queijo parmesão ralado, ...</td>\n",
       "      <td>[Misture os queijos, os ovos, a pimenta-do-rei...</td>\n",
       "      <td>27.034</td>\n",
       "    </tr>\n",
       "  </tbody>\n",
       "</table>\n",
       "</div>"
      ],
      "text/plain": [
       "                                                LINK  \\\n",
       "0  https://www.tudogostoso.com.br/receita/16-mous...   \n",
       "1  https://www.tudogostoso.com.br/receita/17-tort...   \n",
       "2  https://www.tudogostoso.com.br/receita/19-amen...   \n",
       "3  https://www.tudogostoso.com.br/receita/20-bana...   \n",
       "4  https://www.tudogostoso.com.br/receita/21-boli...   \n",
       "\n",
       "                        RECEITA      TIPO   PREPARO    RENDIMENTO  \\\n",
       "0     Mousse de maracujá fácil    Rápida    15 MIN     6 porções    \n",
       "1          Torta alemã de maçã       None   90 MIN    12 porções    \n",
       "2       Amendoim Doce Crocante       None   60 MIN    12 porções    \n",
       "3   Banana da Terra Caramelada       None   80 MIN     6 porções    \n",
       "4           Bolinhas de queijo       None   30 MIN     6 porções    \n",
       "\n",
       "                                        INGREDIENTES  \\\n",
       "0  [2 caixas de gelatina de maracujá, 2 xícaras d...   \n",
       "1  {'MASSA:': ['300 gr de farinha', '200 gr de ma...   \n",
       "2  [3 xícaras de açúcar, 1/2 xícara de café (feit...   \n",
       "3  [3 bananas-da-terra maduras, 1 xícara de água,...   \n",
       "4  [1/2 xícara de chá de queijo parmesão ralado, ...   \n",
       "\n",
       "                                     MODO DE PREPARO  FAVORITOS  \n",
       "0  [Prepare a gelatina com a água quente., Depois...    108.978  \n",
       "1  {'MASSA:': ['Misture bem a manteiga com o açúc...      6.473  \n",
       "2  [Coloque numa panela o café e o açúcar e leve ...      2.212  \n",
       "3  [Junte a água, o açúcar e a manteiga numa frig...      3.618  \n",
       "4  [Misture os queijos, os ovos, a pimenta-do-rei...     27.034  "
      ]
     },
     "execution_count": 3,
     "metadata": {},
     "output_type": "execute_result"
    }
   ],
   "source": [
    "dados.head()"
   ]
  },
  {
   "cell_type": "code",
   "execution_count": 4,
   "metadata": {
    "ExecuteTime": {
     "end_time": "2020-10-24T23:00:57.417239Z",
     "start_time": "2020-10-24T23:00:56.223555Z"
    },
    "hidden": true
   },
   "outputs": [
    {
     "data": {
      "text/html": [
       "<div>\n",
       "<style scoped>\n",
       "    .dataframe tbody tr th:only-of-type {\n",
       "        vertical-align: middle;\n",
       "    }\n",
       "\n",
       "    .dataframe tbody tr th {\n",
       "        vertical-align: top;\n",
       "    }\n",
       "\n",
       "    .dataframe thead th {\n",
       "        text-align: right;\n",
       "    }\n",
       "</style>\n",
       "<table border=\"1\" class=\"dataframe\">\n",
       "  <thead>\n",
       "    <tr style=\"text-align: right;\">\n",
       "      <th></th>\n",
       "      <th>LINK</th>\n",
       "      <th>RECEITA</th>\n",
       "      <th>TIPO</th>\n",
       "      <th>PREPARO</th>\n",
       "      <th>RENDIMENTO</th>\n",
       "      <th>INGREDIENTES</th>\n",
       "      <th>MODO DE PREPARO</th>\n",
       "      <th>FAVORITOS</th>\n",
       "    </tr>\n",
       "  </thead>\n",
       "  <tbody>\n",
       "    <tr>\n",
       "      <th>0</th>\n",
       "      <td>https://www.tudogostoso.com.br/receita/16-mous...</td>\n",
       "      <td>Mousse de maracujá fácil</td>\n",
       "      <td>Rápida</td>\n",
       "      <td>15</td>\n",
       "      <td>6</td>\n",
       "      <td>[2 caixas de gelatina de maracujá, 2 xícaras d...</td>\n",
       "      <td>[Prepare a gelatina com a água quente., Depois...</td>\n",
       "      <td>108.978</td>\n",
       "    </tr>\n",
       "    <tr>\n",
       "      <th>1</th>\n",
       "      <td>https://www.tudogostoso.com.br/receita/17-tort...</td>\n",
       "      <td>Torta alemã de maçã</td>\n",
       "      <td>None</td>\n",
       "      <td>90</td>\n",
       "      <td>12</td>\n",
       "      <td>{'MASSA:': ['300 gr de farinha', '200 gr de ma...</td>\n",
       "      <td>{'MASSA:': ['Misture bem a manteiga com o açúc...</td>\n",
       "      <td>6.473</td>\n",
       "    </tr>\n",
       "    <tr>\n",
       "      <th>2</th>\n",
       "      <td>https://www.tudogostoso.com.br/receita/19-amen...</td>\n",
       "      <td>Amendoim Doce Crocante</td>\n",
       "      <td>None</td>\n",
       "      <td>60</td>\n",
       "      <td>12</td>\n",
       "      <td>[3 xícaras de açúcar, 1/2 xícara de café (feit...</td>\n",
       "      <td>[Coloque numa panela o café e o açúcar e leve ...</td>\n",
       "      <td>2.212</td>\n",
       "    </tr>\n",
       "    <tr>\n",
       "      <th>3</th>\n",
       "      <td>https://www.tudogostoso.com.br/receita/20-bana...</td>\n",
       "      <td>Banana da Terra Caramelada</td>\n",
       "      <td>None</td>\n",
       "      <td>80</td>\n",
       "      <td>6</td>\n",
       "      <td>[3 bananas-da-terra maduras, 1 xícara de água,...</td>\n",
       "      <td>[Junte a água, o açúcar e a manteiga numa frig...</td>\n",
       "      <td>3.618</td>\n",
       "    </tr>\n",
       "    <tr>\n",
       "      <th>4</th>\n",
       "      <td>https://www.tudogostoso.com.br/receita/21-boli...</td>\n",
       "      <td>Bolinhas de queijo</td>\n",
       "      <td>None</td>\n",
       "      <td>30</td>\n",
       "      <td>6</td>\n",
       "      <td>[1/2 xícara de chá de queijo parmesão ralado, ...</td>\n",
       "      <td>[Misture os queijos, os ovos, a pimenta-do-rei...</td>\n",
       "      <td>27.034</td>\n",
       "    </tr>\n",
       "  </tbody>\n",
       "</table>\n",
       "</div>"
      ],
      "text/plain": [
       "                                                LINK  \\\n",
       "0  https://www.tudogostoso.com.br/receita/16-mous...   \n",
       "1  https://www.tudogostoso.com.br/receita/17-tort...   \n",
       "2  https://www.tudogostoso.com.br/receita/19-amen...   \n",
       "3  https://www.tudogostoso.com.br/receita/20-bana...   \n",
       "4  https://www.tudogostoso.com.br/receita/21-boli...   \n",
       "\n",
       "                        RECEITA    TIPO  PREPARO  RENDIMENTO  \\\n",
       "0     Mousse de maracujá fácil   Rápida       15           6   \n",
       "1          Torta alemã de maçã     None       90          12   \n",
       "2       Amendoim Doce Crocante     None       60          12   \n",
       "3   Banana da Terra Caramelada     None       80           6   \n",
       "4           Bolinhas de queijo     None       30           6   \n",
       "\n",
       "                                        INGREDIENTES  \\\n",
       "0  [2 caixas de gelatina de maracujá, 2 xícaras d...   \n",
       "1  {'MASSA:': ['300 gr de farinha', '200 gr de ma...   \n",
       "2  [3 xícaras de açúcar, 1/2 xícara de café (feit...   \n",
       "3  [3 bananas-da-terra maduras, 1 xícara de água,...   \n",
       "4  [1/2 xícara de chá de queijo parmesão ralado, ...   \n",
       "\n",
       "                                     MODO DE PREPARO  FAVORITOS  \n",
       "0  [Prepare a gelatina com a água quente., Depois...    108.978  \n",
       "1  {'MASSA:': ['Misture bem a manteiga com o açúc...      6.473  \n",
       "2  [Coloque numa panela o café e o açúcar e leve ...      2.212  \n",
       "3  [Junte a água, o açúcar e a manteiga numa frig...      3.618  \n",
       "4  [Misture os queijos, os ovos, a pimenta-do-rei...     27.034  "
      ]
     },
     "execution_count": 4,
     "metadata": {},
     "output_type": "execute_result"
    }
   ],
   "source": [
    "# Removendo caracteres não numéricos para converter a coluna Preparo em int.\n",
    "dados['PREPARO'] = dados['PREPARO'].astype(str)  # É necessário para aplicar a função \"re.sub\"\n",
    "dados['PREPARO'] = dados['PREPARO'].apply(\n",
    "    lambda x: re.sub(\"[^0-9]\", \"\", x))  # [^0-9] Remove tudo que não é numérico\n",
    "dados['PREPARO'] = pd.to_numeric(dados['PREPARO'])\n",
    "dados['PREPARO'] = dados['PREPARO'].fillna(0)\n",
    "dados['PREPARO'] = dados['PREPARO'].astype('int')\n",
    "\n",
    "# Removendo caracteres não numéricos para converter a coluna Rendimento em int.\n",
    "dados['RENDIMENTO'] = dados['RENDIMENTO'].astype(str)  # É necessário para aplicar a função \"re.sub\"\n",
    "dados['RENDIMENTO'] = dados['RENDIMENTO'].apply(\n",
    "    lambda x: re.sub(\"[^0-9]\", \"\", x))  # [^0-9] Remove tudo que não é numérico\n",
    "dados['RENDIMENTO'] = pd.to_numeric(dados['RENDIMENTO'])\n",
    "dados['RENDIMENTO'] = dados['RENDIMENTO'].fillna(0)\n",
    "dados['RENDIMENTO'] = dados['RENDIMENTO'].astype('int')\n",
    "\n",
    "# Removendo espaços extras na coluna Tipo.\n",
    "dados['TIPO'] = dados['TIPO'].str.replace(' ', '')\n",
    "\n",
    "dados.head()"
   ]
  },
  {
   "cell_type": "code",
   "execution_count": 5,
   "metadata": {
    "ExecuteTime": {
     "end_time": "2020-10-24T23:00:57.433196Z",
     "start_time": "2020-10-24T23:00:57.418236Z"
    },
    "hidden": true
   },
   "outputs": [
    {
     "data": {
      "text/plain": [
       "LINK                object\n",
       "RECEITA             object\n",
       "TIPO                object\n",
       "PREPARO              int32\n",
       "RENDIMENTO           int32\n",
       "INGREDIENTES        object\n",
       "MODO DE PREPARO     object\n",
       "FAVORITOS          float64\n",
       "dtype: object"
      ]
     },
     "execution_count": 5,
     "metadata": {},
     "output_type": "execute_result"
    }
   ],
   "source": [
    "# Checando os tipos das colunas\n",
    "dados.dtypes"
   ]
  },
  {
   "cell_type": "code",
   "execution_count": 6,
   "metadata": {
    "ExecuteTime": {
     "end_time": "2020-10-24T23:00:57.753095Z",
     "start_time": "2020-10-24T23:00:57.435193Z"
    },
    "hidden": true
   },
   "outputs": [
    {
     "data": {
      "text/html": [
       "<div>\n",
       "<style scoped>\n",
       "    .dataframe tbody tr th:only-of-type {\n",
       "        vertical-align: middle;\n",
       "    }\n",
       "\n",
       "    .dataframe tbody tr th {\n",
       "        vertical-align: top;\n",
       "    }\n",
       "\n",
       "    .dataframe thead th {\n",
       "        text-align: right;\n",
       "    }\n",
       "</style>\n",
       "<table border=\"1\" class=\"dataframe\">\n",
       "  <thead>\n",
       "    <tr style=\"text-align: right;\">\n",
       "      <th></th>\n",
       "      <th>LINK</th>\n",
       "      <th>RECEITA</th>\n",
       "      <th>TIPO</th>\n",
       "      <th>PREPARO</th>\n",
       "      <th>RENDIMENTO</th>\n",
       "      <th>INGREDIENTES</th>\n",
       "      <th>MODO DE PREPARO</th>\n",
       "      <th>FAVORITOS</th>\n",
       "    </tr>\n",
       "  </thead>\n",
       "  <tbody>\n",
       "    <tr>\n",
       "      <th>0</th>\n",
       "      <td>https://www.tudogostoso.com.br/receita/16-mous...</td>\n",
       "      <td>Mousse de maracujá fácil</td>\n",
       "      <td>Rápida</td>\n",
       "      <td>15</td>\n",
       "      <td>6</td>\n",
       "      <td>[2 caixas de gelatina de maracujá, 2 xícaras d...</td>\n",
       "      <td>[Prepare a gelatina com a água quente., Depois...</td>\n",
       "      <td>108978</td>\n",
       "    </tr>\n",
       "    <tr>\n",
       "      <th>1</th>\n",
       "      <td>https://www.tudogostoso.com.br/receita/17-tort...</td>\n",
       "      <td>Torta alemã de maçã</td>\n",
       "      <td>None</td>\n",
       "      <td>90</td>\n",
       "      <td>12</td>\n",
       "      <td>{'MASSA:': ['300 gr de farinha', '200 gr de ma...</td>\n",
       "      <td>{'MASSA:': ['Misture bem a manteiga com o açúc...</td>\n",
       "      <td>6473</td>\n",
       "    </tr>\n",
       "    <tr>\n",
       "      <th>2</th>\n",
       "      <td>https://www.tudogostoso.com.br/receita/19-amen...</td>\n",
       "      <td>Amendoim Doce Crocante</td>\n",
       "      <td>None</td>\n",
       "      <td>60</td>\n",
       "      <td>12</td>\n",
       "      <td>[3 xícaras de açúcar, 1/2 xícara de café (feit...</td>\n",
       "      <td>[Coloque numa panela o café e o açúcar e leve ...</td>\n",
       "      <td>2212</td>\n",
       "    </tr>\n",
       "    <tr>\n",
       "      <th>3</th>\n",
       "      <td>https://www.tudogostoso.com.br/receita/20-bana...</td>\n",
       "      <td>Banana da Terra Caramelada</td>\n",
       "      <td>None</td>\n",
       "      <td>80</td>\n",
       "      <td>6</td>\n",
       "      <td>[3 bananas-da-terra maduras, 1 xícara de água,...</td>\n",
       "      <td>[Junte a água, o açúcar e a manteiga numa frig...</td>\n",
       "      <td>3618</td>\n",
       "    </tr>\n",
       "    <tr>\n",
       "      <th>4</th>\n",
       "      <td>https://www.tudogostoso.com.br/receita/21-boli...</td>\n",
       "      <td>Bolinhas de queijo</td>\n",
       "      <td>None</td>\n",
       "      <td>30</td>\n",
       "      <td>6</td>\n",
       "      <td>[1/2 xícara de chá de queijo parmesão ralado, ...</td>\n",
       "      <td>[Misture os queijos, os ovos, a pimenta-do-rei...</td>\n",
       "      <td>27034</td>\n",
       "    </tr>\n",
       "  </tbody>\n",
       "</table>\n",
       "</div>"
      ],
      "text/plain": [
       "                                                LINK  \\\n",
       "0  https://www.tudogostoso.com.br/receita/16-mous...   \n",
       "1  https://www.tudogostoso.com.br/receita/17-tort...   \n",
       "2  https://www.tudogostoso.com.br/receita/19-amen...   \n",
       "3  https://www.tudogostoso.com.br/receita/20-bana...   \n",
       "4  https://www.tudogostoso.com.br/receita/21-boli...   \n",
       "\n",
       "                        RECEITA    TIPO  PREPARO  RENDIMENTO  \\\n",
       "0     Mousse de maracujá fácil   Rápida       15           6   \n",
       "1          Torta alemã de maçã     None       90          12   \n",
       "2       Amendoim Doce Crocante     None       60          12   \n",
       "3   Banana da Terra Caramelada     None       80           6   \n",
       "4           Bolinhas de queijo     None       30           6   \n",
       "\n",
       "                                        INGREDIENTES  \\\n",
       "0  [2 caixas de gelatina de maracujá, 2 xícaras d...   \n",
       "1  {'MASSA:': ['300 gr de farinha', '200 gr de ma...   \n",
       "2  [3 xícaras de açúcar, 1/2 xícara de café (feit...   \n",
       "3  [3 bananas-da-terra maduras, 1 xícara de água,...   \n",
       "4  [1/2 xícara de chá de queijo parmesão ralado, ...   \n",
       "\n",
       "                                     MODO DE PREPARO  FAVORITOS  \n",
       "0  [Prepare a gelatina com a água quente., Depois...     108978  \n",
       "1  {'MASSA:': ['Misture bem a manteiga com o açúc...       6473  \n",
       "2  [Coloque numa panela o café e o açúcar e leve ...       2212  \n",
       "3  [Junte a água, o açúcar e a manteiga numa frig...       3618  \n",
       "4  [Misture os queijos, os ovos, a pimenta-do-rei...      27034  "
      ]
     },
     "execution_count": 6,
     "metadata": {},
     "output_type": "execute_result"
    }
   ],
   "source": [
    "# Os dados do número de favoritos não são float e sim inteiros\n",
    "# O \".\" deveria representar uma visualização, não um decimal\n",
    "dados['FAVORITOS'] = dados['FAVORITOS'].fillna(0)\n",
    "dados['FAVORITOS'] = dados['FAVORITOS'].astype('str')\n",
    "dados['FAVORITOS'] = dados['FAVORITOS'].apply(lambda x: re.sub(r'\\.', '', x))\n",
    "dados['FAVORITOS'] = dados['FAVORITOS'].astype('int')\n",
    "dados.head()"
   ]
  },
  {
   "cell_type": "markdown",
   "metadata": {},
   "source": [
    "### Definição de critérios para o dataset final"
   ]
  },
  {
   "cell_type": "code",
   "execution_count": 7,
   "metadata": {
    "ExecuteTime": {
     "end_time": "2020-10-24T23:01:00.116310Z",
     "start_time": "2020-10-24T23:00:57.755091Z"
    }
   },
   "outputs": [
    {
     "name": "stderr",
     "output_type": "stream",
     "text": [
      "C:\\Users\\julio\\anaconda3\\lib\\site-packages\\seaborn\\distributions.py:2551: FutureWarning: `distplot` is a deprecated function and will be removed in a future version. Please adapt your code to use either `displot` (a figure-level function with similar flexibility) or `histplot` (an axes-level function for histograms).\n",
      "  warnings.warn(msg, FutureWarning)\n"
     ]
    },
    {
     "data": {
      "text/plain": [
       "<matplotlib.axes._subplots.AxesSubplot at 0x2b1ddc03b80>"
      ]
     },
     "execution_count": 7,
     "metadata": {},
     "output_type": "execute_result"
    },
    {
     "data": {
      "image/png": "[encoded data removed]",
      "text/plain": [
       "<Figure size 842.4x595.44 with 1 Axes>"
      ]
     },
     "metadata": {},
     "output_type": "display_data"
    }
   ],
   "source": [
    "sns.distplot(dados['FAVORITOS'])"
   ]
  },
  {
   "cell_type": "code",
   "execution_count": 8,
   "metadata": {
    "ExecuteTime": {
     "end_time": "2020-10-24T23:01:00.318768Z",
     "start_time": "2020-10-24T23:01:00.118304Z"
    }
   },
   "outputs": [
    {
     "name": "stderr",
     "output_type": "stream",
     "text": [
      "C:\\Users\\julio\\anaconda3\\lib\\site-packages\\seaborn\\_decorators.py:36: FutureWarning: Pass the following variable as a keyword arg: x. From version 0.12, the only valid positional argument will be `data`, and passing other arguments without an explicit keyword will result in an error or misinterpretation.\n",
      "  warnings.warn(\n"
     ]
    },
    {
     "data": {
      "text/plain": [
       "<matplotlib.axes._subplots.AxesSubplot at 0x2b1e0e16520>"
      ]
     },
     "execution_count": 8,
     "metadata": {},
     "output_type": "execute_result"
    },
    {
     "data": {
      "image/png": "[encoded data removed]",
      "text/plain": [
       "<Figure size 842.4x595.44 with 1 Axes>"
      ]
     },
     "metadata": {},
     "output_type": "display_data"
    }
   ],
   "source": [
    "sns.boxplot(dados['FAVORITOS'])"
   ]
  },
  {
   "cell_type": "code",
   "execution_count": 9,
   "metadata": {
    "ExecuteTime": {
     "end_time": "2020-10-24T23:01:03.039940Z",
     "start_time": "2020-10-24T23:01:00.319765Z"
    }
   },
   "outputs": [
    {
     "data": {
      "text/plain": [
       "<matplotlib.axes._subplots.AxesSubplot at 0x2b1ddefa3a0>"
      ]
     },
     "execution_count": 9,
     "metadata": {},
     "output_type": "execute_result"
    },
    {
     "data": {
      "image/png": "[encoded data removed]",
      "text/plain": [
       "<Figure size 842.4x595.44 with 1 Axes>"
      ]
     },
     "metadata": {},
     "output_type": "display_data"
    }
   ],
   "source": [
    "sns.kdeplot(dados['FAVORITOS'], cumulative=True)"
   ]
  },
  {
   "cell_type": "markdown",
   "metadata": {},
   "source": [
    "**Oberva-se que os dados estão extremamente concentrados no início**"
   ]
  },
  {
   "cell_type": "code",
   "execution_count": 10,
   "metadata": {
    "ExecuteTime": {
     "end_time": "2020-10-24T23:01:03.054900Z",
     "start_time": "2020-10-24T23:01:03.040938Z"
    }
   },
   "outputs": [
    {
     "data": {
      "text/plain": [
       "count    196625.000000\n",
       "mean        874.141630\n",
       "std        4705.310492\n",
       "min           0.000000\n",
       "25%          20.000000\n",
       "50%         110.000000\n",
       "75%         480.000000\n",
       "max      512505.000000\n",
       "Name: FAVORITOS, dtype: float64"
      ]
     },
     "execution_count": 10,
     "metadata": {},
     "output_type": "execute_result"
    }
   ],
   "source": [
    "dados['FAVORITOS'].describe()"
   ]
  },
  {
   "cell_type": "code",
   "execution_count": 11,
   "metadata": {
    "ExecuteTime": {
     "end_time": "2020-10-24T23:01:03.070858Z",
     "start_time": "2020-10-24T23:01:03.055898Z"
    }
   },
   "outputs": [
    {
     "data": {
      "text/plain": [
       "Microondas             3455\n",
       "AlimentaçãoSaudável    1103\n",
       "Light                   799\n",
       "Rápida                  413\n",
       "Vegetariana             317\n",
       "Name: TIPO, dtype: int64"
      ]
     },
     "execution_count": 11,
     "metadata": {},
     "output_type": "execute_result"
    }
   ],
   "source": [
    "dados['TIPO'].value_counts()"
   ]
  },
  {
   "cell_type": "markdown",
   "metadata": {},
   "source": [
    "**Como os outliers estão prejudicando a visualização, vou limitar o valor máximo no eixo x**"
   ]
  },
  {
   "cell_type": "code",
   "execution_count": 12,
   "metadata": {
    "ExecuteTime": {
     "end_time": "2020-10-24T23:01:03.086863Z",
     "start_time": "2020-10-24T23:01:03.071856Z"
    }
   },
   "outputs": [
    {
     "data": {
      "text/plain": [
       "9100.0"
      ]
     },
     "execution_count": 12,
     "metadata": {},
     "output_type": "execute_result"
    }
   ],
   "source": [
    "# Verificando quantos % representam 10mil favoritos\n",
    "a = dados['FAVORITOS'].quantile(0.99)\n",
    "a"
   ]
  },
  {
   "cell_type": "code",
   "execution_count": 13,
   "metadata": {
    "ExecuteTime": {
     "end_time": "2020-10-24T23:01:03.102864Z",
     "start_time": "2020-10-24T23:01:03.087856Z"
    }
   },
   "outputs": [],
   "source": [
    "# Os valores acima de 11432 foram eliminados por representar apenas 1% dos dados\n",
    "dados_para_visualização = dados['FAVORITOS'].loc[dados['FAVORITOS'] <= a]"
   ]
  },
  {
   "cell_type": "code",
   "execution_count": 14,
   "metadata": {
    "ExecuteTime": {
     "end_time": "2020-10-24T23:01:04.672237Z",
     "start_time": "2020-10-24T23:01:03.103861Z"
    }
   },
   "outputs": [
    {
     "name": "stderr",
     "output_type": "stream",
     "text": [
      "C:\\Users\\julio\\anaconda3\\lib\\site-packages\\seaborn\\distributions.py:2551: FutureWarning: `distplot` is a deprecated function and will be removed in a future version. Please adapt your code to use either `displot` (a figure-level function with similar flexibility) or `histplot` (an axes-level function for histograms).\n",
      "  warnings.warn(msg, FutureWarning)\n"
     ]
    },
    {
     "data": {
      "text/plain": [
       "<matplotlib.axes._subplots.AxesSubplot at 0x2b1ddf3fe80>"
      ]
     },
     "execution_count": 14,
     "metadata": {},
     "output_type": "execute_result"
    },
    {
     "data": {
      "image/png": "[encoded data removed]",
      "text/plain": [
       "<Figure size 842.4x595.44 with 1 Axes>"
      ]
     },
     "metadata": {},
     "output_type": "display_data"
    }
   ],
   "source": [
    "fig = sns.distplot(dados_para_visualização)\n",
    "fig.set(xticks=np.arange(0, a, 500))\n",
    "fig"
   ]
  },
  {
   "cell_type": "code",
   "execution_count": 15,
   "metadata": {
    "ExecuteTime": {
     "end_time": "2020-10-24T23:01:04.890689Z",
     "start_time": "2020-10-24T23:01:04.674231Z"
    }
   },
   "outputs": [
    {
     "name": "stderr",
     "output_type": "stream",
     "text": [
      "C:\\Users\\julio\\anaconda3\\lib\\site-packages\\seaborn\\_decorators.py:36: FutureWarning: Pass the following variable as a keyword arg: x. From version 0.12, the only valid positional argument will be `data`, and passing other arguments without an explicit keyword will result in an error or misinterpretation.\n",
      "  warnings.warn(\n"
     ]
    },
    {
     "data": {
      "text/plain": [
       "<matplotlib.axes._subplots.AxesSubplot at 0x2b1e0bbf880>"
      ]
     },
     "execution_count": 15,
     "metadata": {},
     "output_type": "execute_result"
    },
    {
     "data": {
      "image/png": "[encoded data removed]",
      "text/plain": [
       "<Figure size 842.4x595.44 with 1 Axes>"
      ]
     },
     "metadata": {},
     "output_type": "display_data"
    }
   ],
   "source": [
    "fig = sns.boxplot(dados_para_visualização)\n",
    "fig.set(xticks=np.arange(0, a, 500))\n",
    "fig"
   ]
  },
  {
   "cell_type": "code",
   "execution_count": 16,
   "metadata": {
    "ExecuteTime": {
     "end_time": "2020-10-24T23:01:07.780546Z",
     "start_time": "2020-10-24T23:01:04.892682Z"
    }
   },
   "outputs": [
    {
     "data": {
      "text/plain": [
       "<matplotlib.axes._subplots.AxesSubplot at 0x2b1e0c80880>"
      ]
     },
     "execution_count": 16,
     "metadata": {},
     "output_type": "execute_result"
    },
    {
     "data": {
      "image/png": "[encoded data removed]",
      "text/plain": [
       "<Figure size 842.4x595.44 with 1 Axes>"
      ]
     },
     "metadata": {},
     "output_type": "display_data"
    }
   ],
   "source": [
    "fig = sns.kdeplot(dados_para_visualização, cumulative=True)\n",
    "fig.set(xticks=np.arange(0, a, 500))\n",
    "fig"
   ]
  },
  {
   "cell_type": "markdown",
   "metadata": {},
   "source": [
    "**Critérios**\n",
    "\n",
    "O objetivo inicial do projeto é filtrar o dataset por tempo de preparo, rendimento e se é vegetariana ou não.\n",
    "\n",
    "Para reduzir o tamanho do dataset e selecionar apenas as mehores receitas, foi adotado o seguinte critério:\n",
    "\n",
    "- Selecionar apenas as receitas com mais de 100 favoritos, visto que 50% das receitas possuem menos de 110 favoritos;\n",
    "- Como existem poucas vegetarianas, selecionar todas idependente do número de favoritos."
   ]
  },
  {
   "cell_type": "markdown",
   "metadata": {},
   "source": [
    "### Finalização do dataset"
   ]
  },
  {
   "cell_type": "code",
   "execution_count": 17,
   "metadata": {
    "ExecuteTime": {
     "end_time": "2020-10-24T23:01:07.918118Z",
     "start_time": "2020-10-24T23:01:07.781541Z"
    }
   },
   "outputs": [
    {
     "data": {
      "text/html": [
       "<div>\n",
       "<style scoped>\n",
       "    .dataframe tbody tr th:only-of-type {\n",
       "        vertical-align: middle;\n",
       "    }\n",
       "\n",
       "    .dataframe tbody tr th {\n",
       "        vertical-align: top;\n",
       "    }\n",
       "\n",
       "    .dataframe thead th {\n",
       "        text-align: right;\n",
       "    }\n",
       "</style>\n",
       "<table border=\"1\" class=\"dataframe\">\n",
       "  <thead>\n",
       "    <tr style=\"text-align: right;\">\n",
       "      <th></th>\n",
       "      <th>LINK</th>\n",
       "      <th>RECEITA</th>\n",
       "      <th>TIPO</th>\n",
       "      <th>PREPARO</th>\n",
       "      <th>RENDIMENTO</th>\n",
       "      <th>INGREDIENTES</th>\n",
       "      <th>MODO DE PREPARO</th>\n",
       "      <th>FAVORITOS</th>\n",
       "    </tr>\n",
       "  </thead>\n",
       "  <tbody>\n",
       "    <tr>\n",
       "      <th>0</th>\n",
       "      <td>https://www.tudogostoso.com.br/receita/16-mous...</td>\n",
       "      <td>Mousse de maracujá fácil</td>\n",
       "      <td>Rápida</td>\n",
       "      <td>15</td>\n",
       "      <td>6</td>\n",
       "      <td>[2 caixas de gelatina de maracujá, 2 xícaras d...</td>\n",
       "      <td>[Prepare a gelatina com a água quente., Depois...</td>\n",
       "      <td>108978</td>\n",
       "    </tr>\n",
       "    <tr>\n",
       "      <th>1</th>\n",
       "      <td>https://www.tudogostoso.com.br/receita/17-tort...</td>\n",
       "      <td>Torta alemã de maçã</td>\n",
       "      <td>None</td>\n",
       "      <td>90</td>\n",
       "      <td>12</td>\n",
       "      <td>{'MASSA:': ['300 gr de farinha', '200 gr de ma...</td>\n",
       "      <td>{'MASSA:': ['Misture bem a manteiga com o açúc...</td>\n",
       "      <td>6473</td>\n",
       "    </tr>\n",
       "    <tr>\n",
       "      <th>2</th>\n",
       "      <td>https://www.tudogostoso.com.br/receita/19-amen...</td>\n",
       "      <td>Amendoim Doce Crocante</td>\n",
       "      <td>None</td>\n",
       "      <td>60</td>\n",
       "      <td>12</td>\n",
       "      <td>[3 xícaras de açúcar, 1/2 xícara de café (feit...</td>\n",
       "      <td>[Coloque numa panela o café e o açúcar e leve ...</td>\n",
       "      <td>2212</td>\n",
       "    </tr>\n",
       "    <tr>\n",
       "      <th>3</th>\n",
       "      <td>https://www.tudogostoso.com.br/receita/20-bana...</td>\n",
       "      <td>Banana da Terra Caramelada</td>\n",
       "      <td>None</td>\n",
       "      <td>80</td>\n",
       "      <td>6</td>\n",
       "      <td>[3 bananas-da-terra maduras, 1 xícara de água,...</td>\n",
       "      <td>[Junte a água, o açúcar e a manteiga numa frig...</td>\n",
       "      <td>3618</td>\n",
       "    </tr>\n",
       "    <tr>\n",
       "      <th>4</th>\n",
       "      <td>https://www.tudogostoso.com.br/receita/21-boli...</td>\n",
       "      <td>Bolinhas de queijo</td>\n",
       "      <td>None</td>\n",
       "      <td>30</td>\n",
       "      <td>6</td>\n",
       "      <td>[1/2 xícara de chá de queijo parmesão ralado, ...</td>\n",
       "      <td>[Misture os queijos, os ovos, a pimenta-do-rei...</td>\n",
       "      <td>27034</td>\n",
       "    </tr>\n",
       "  </tbody>\n",
       "</table>\n",
       "</div>"
      ],
      "text/plain": [
       "                                                LINK  \\\n",
       "0  https://www.tudogostoso.com.br/receita/16-mous...   \n",
       "1  https://www.tudogostoso.com.br/receita/17-tort...   \n",
       "2  https://www.tudogostoso.com.br/receita/19-amen...   \n",
       "3  https://www.tudogostoso.com.br/receita/20-bana...   \n",
       "4  https://www.tudogostoso.com.br/receita/21-boli...   \n",
       "\n",
       "                        RECEITA    TIPO  PREPARO  RENDIMENTO  \\\n",
       "0     Mousse de maracujá fácil   Rápida       15           6   \n",
       "1          Torta alemã de maçã     None       90          12   \n",
       "2       Amendoim Doce Crocante     None       60          12   \n",
       "3   Banana da Terra Caramelada     None       80           6   \n",
       "4           Bolinhas de queijo     None       30           6   \n",
       "\n",
       "                                        INGREDIENTES  \\\n",
       "0  [2 caixas de gelatina de maracujá, 2 xícaras d...   \n",
       "1  {'MASSA:': ['300 gr de farinha', '200 gr de ma...   \n",
       "2  [3 xícaras de açúcar, 1/2 xícara de café (feit...   \n",
       "3  [3 bananas-da-terra maduras, 1 xícara de água,...   \n",
       "4  [1/2 xícara de chá de queijo parmesão ralado, ...   \n",
       "\n",
       "                                     MODO DE PREPARO  FAVORITOS  \n",
       "0  [Prepare a gelatina com a água quente., Depois...     108978  \n",
       "1  {'MASSA:': ['Misture bem a manteiga com o açúc...       6473  \n",
       "2  [Coloque numa panela o café e o açúcar e leve ...       2212  \n",
       "3  [Junte a água, o açúcar e a manteiga numa frig...       3618  \n",
       "4  [Misture os queijos, os ovos, a pimenta-do-rei...      27034  "
      ]
     },
     "execution_count": 17,
     "metadata": {},
     "output_type": "execute_result"
    }
   ],
   "source": [
    "# Filtrando os dados de acordo com os critérios definidos\n",
    "vegetarianas = dados.loc[dados['TIPO'] == 'Vegetariana']\n",
    "n_vegetarianas = dados.loc[dados['TIPO'] != 'Vegetariana']\n",
    "n_vegetarianas_com_mais_de_100_favs = n_vegetarianas.loc[\n",
    "    n_vegetarianas['FAVORITOS'] > 100]\n",
    "final = pd.concat([n_vegetarianas_com_mais_de_100_favs, vegetarianas])\n",
    "final.reset_index(drop=True, inplace=True)\n",
    "final.head()"
   ]
  },
  {
   "cell_type": "code",
   "execution_count": 18,
   "metadata": {
    "ExecuteTime": {
     "end_time": "2020-10-24T23:01:07.933712Z",
     "start_time": "2020-10-24T23:01:07.920111Z"
    }
   },
   "outputs": [
    {
     "data": {
      "text/plain": [
       "98525"
      ]
     },
     "execution_count": 18,
     "metadata": {},
     "output_type": "execute_result"
    }
   ],
   "source": [
    "len(final)"
   ]
  },
  {
   "cell_type": "code",
   "execution_count": 19,
   "metadata": {
    "ExecuteTime": {
     "end_time": "2020-10-24T23:01:07.949450Z",
     "start_time": "2020-10-24T23:01:07.934713Z"
    }
   },
   "outputs": [
    {
     "data": {
      "text/plain": [
       "count     98525.000000\n",
       "mean       1712.354621\n",
       "std        6540.295806\n",
       "min           0.000000\n",
       "25%         210.000000\n",
       "50%         480.000000\n",
       "75%        1510.000000\n",
       "max      512505.000000\n",
       "Name: FAVORITOS, dtype: float64"
      ]
     },
     "execution_count": 19,
     "metadata": {},
     "output_type": "execute_result"
    }
   ],
   "source": [
    "final['FAVORITOS'].describe()"
   ]
  },
  {
   "cell_type": "code",
   "execution_count": 20,
   "metadata": {
    "ExecuteTime": {
     "end_time": "2020-10-24T23:01:09.748349Z",
     "start_time": "2020-10-24T23:01:07.950446Z"
    }
   },
   "outputs": [],
   "source": [
    "# Exportando a primeira versão final dos dados\n",
    "final[['LINK', 'RECEITA', 'TIPO', 'PREPARO', 'RENDIMENTO']].to_csv('Arquivo_final.csv')\n",
    "final.to_json('Arquivo_final.json', orient='records')  # Exportando para json para não perder as ingormações de tipo"
   ]
  }
 ],
 "metadata": {
  "kernelspec": {
   "display_name": "Python 3",
   "language": "python",
   "name": "python3"
  },
  "language_info": {
   "codemirror_mode": {
    "name": "ipython",
    "version": 3
   },
   "file_extension": ".py",
   "mimetype": "text/x-python",
   "name": "python",
   "nbconvert_exporter": "python",
   "pygments_lexer": "ipython3",
   "version": "3.7.4"
  },
  "varInspector": {
   "cols": {
    "lenName": 16,
    "lenType": 16,
    "lenVar": 40
   },
   "kernels_config": {
    "python": {
     "delete_cmd_postfix": "",
     "delete_cmd_prefix": "del ",
     "library": "var_list.py",
     "varRefreshCmd": "print(var_dic_list())"
    },
    "r": {
     "delete_cmd_postfix": ") ",
     "delete_cmd_prefix": "rm(",
     "library": "var_list.r",
     "varRefreshCmd": "cat(var_dic_list()) "
    }
   },
   "types_to_exclude": [
    "module",
    "function",
    "builtin_function_or_method",
    "instance",
    "_Feature"
   ],
   "window_display": false
  }
 },
 "nbformat": 4,
 "nbformat_minor": 4
}
