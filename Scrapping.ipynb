{
 "cells": [
  {
   "cell_type": "markdown",
   "metadata": {},
   "source": [
    "**Notebook com o scrapping dados para o projeto do site oquecozinhar.com**"
   ]
  },
  {
   "cell_type": "markdown",
   "metadata": {
    "heading_collapsed": true
   },
   "source": [
    "# Importação das bibliotecas"
   ]
  },
  {
   "cell_type": "code",
   "execution_count": null,
   "metadata": {
    "ExecuteTime": {
     "end_time": "2020-10-20T00:11:41.580101Z",
     "start_time": "2020-10-20T00:11:35.072334Z"
    },
    "executionInfo": {
     "elapsed": 794,
     "status": "ok",
     "timestamp": 1601335175751,
     "user": {
      "displayName": "Julio Sales",
      "photoUrl": "https://lh3.googleusercontent.com/a-/AOh14GiZ4EayNk5u52hCWFM3YNb9UHu_FEvevLANMQPQQg=s64",
      "userId": "09300349995903618850"
     },
     "user_tz": 180
    },
    "hidden": true,
    "id": "HViJWRCMeXhu"
   },
   "outputs": [],
   "source": [
    "from urllib.request import Request, urlopen\n",
    "from urllib.error import URLError, HTTPError\n",
    "from bs4 import BeautifulSoup\n",
    "from tqdm import tqdm\n",
    "import pandas as pd\n",
    "import numpy as np"
   ]
  },
  {
   "cell_type": "markdown",
   "metadata": {
    "heading_collapsed": true
   },
   "source": [
    "# Coleta dos links com as receitas"
   ]
  },
  {
   "cell_type": "markdown",
   "metadata": {
    "heading_collapsed": true,
    "hidden": true
   },
   "source": [
    "## Coleta dos links"
   ]
  },
  {
   "cell_type": "code",
   "execution_count": null,
   "metadata": {
    "executionInfo": {
     "elapsed": 809,
     "status": "ok",
     "timestamp": 1601335176094,
     "user": {
      "displayName": "Julio Sales",
      "photoUrl": "https://lh3.googleusercontent.com/a-/AOh14GiZ4EayNk5u52hCWFM3YNb9UHu_FEvevLANMQPQQg=s64",
      "userId": "09300349995903618850"
     },
     "user_tz": 180
    },
    "hidden": true,
    "id": "ok1u-7I3fZWG"
   },
   "outputs": [],
   "source": [
    "# Scrapping do sitemap para coletar os links das receitas\n",
    "class TudoGostosoLinks():\n",
    "    def __init__(self, urls, header):\n",
    "        self.urls = urls\n",
    "        self.header = header\n",
    "        self.links = []\n",
    "\n",
    "    def _get_html(self):\n",
    "        try:\n",
    "            self.req = Request(self.url, headers=self.header)\n",
    "            self.response = urlopen(self.req)\n",
    "            self.html = self.response.read()\n",
    "            self.soup = BeautifulSoup(self.html, 'html.parser')\n",
    "        except:\n",
    "            pass\n",
    "        \n",
    "    def get_links(self):\n",
    "        for self.url in tqdm(self.urls):\n",
    "            self._get_html()\n",
    "            for self.link in self.soup.findAll('loc'):\n",
    "                self.links.append(self.link.get_text())\n",
    "        return self.links"
   ]
  },
  {
   "cell_type": "code",
   "execution_count": null,
   "metadata": {
    "colab": {
     "base_uri": "https://localhost:8080/",
     "height": 1000
    },
    "executionInfo": {
     "elapsed": 773443,
     "status": "ok",
     "timestamp": 1601335949051,
     "user": {
      "displayName": "Julio Sales",
      "photoUrl": "https://lh3.googleusercontent.com/a-/AOh14GiZ4EayNk5u52hCWFM3YNb9UHu_FEvevLANMQPQQg=s64",
      "userId": "09300349995903618850"
     },
     "user_tz": 180
    },
    "hidden": true,
    "id": "actbeVAfehCI",
    "outputId": "ee746570-f3cd-4e24-de20-0dfe5f2a9c3d"
   },
   "outputs": [],
   "source": [
    "urls = [\n",
    "    'https://www.tudogostoso.com.br/sitemap-' + str(i) + '.xml'\n",
    "    for i in range(1, 100)\n",
    "]\n",
    "header = {\n",
    "    'User-Agent':\n",
    "    'Mozilla/5.0 (Windows NT 10.0; Win64; x64) AppleWebKit/537.36 (KHTML, like Gecko) Chrome/84.0.4147.105 Safari/537.36'\n",
    "}\n",
    "\n",
    "links = TudoGostosoLinks(urls, header)\n",
    "links = links.get_links()\n",
    "links"
   ]
  },
  {
   "cell_type": "markdown",
   "metadata": {
    "heading_collapsed": true,
    "hidden": true
   },
   "source": [
    "## Preparo dos links"
   ]
  },
  {
   "cell_type": "code",
   "execution_count": null,
   "metadata": {
    "colab": {
     "base_uri": "https://localhost:8080/",
     "height": 34
    },
    "executionInfo": {
     "elapsed": 772901,
     "status": "ok",
     "timestamp": 1601335949054,
     "user": {
      "displayName": "Julio Sales",
      "photoUrl": "https://lh3.googleusercontent.com/a-/AOh14GiZ4EayNk5u52hCWFM3YNb9UHu_FEvevLANMQPQQg=s64",
      "userId": "09300349995903618850"
     },
     "user_tz": 180
    },
    "hidden": true,
    "id": "3vcBpI6BfsHO",
    "outputId": "a295c52d-3f4f-464d-935c-e260583c21d8"
   },
   "outputs": [],
   "source": [
    "len(links)"
   ]
  },
  {
   "cell_type": "code",
   "execution_count": null,
   "metadata": {
    "executionInfo": {
     "elapsed": 772320,
     "status": "ok",
     "timestamp": 1601335949054,
     "user": {
      "displayName": "Julio Sales",
      "photoUrl": "https://lh3.googleusercontent.com/a-/AOh14GiZ4EayNk5u52hCWFM3YNb9UHu_FEvevLANMQPQQg=s64",
      "userId": "09300349995903618850"
     },
     "user_tz": 180
    },
    "hidden": true,
    "id": "j6M2n2lNjDj4"
   },
   "outputs": [],
   "source": [
    "# Removendo as quebras de parágrafo\n",
    "links = [link.replace('\\n', '') for link in links]"
   ]
  },
  {
   "cell_type": "code",
   "execution_count": null,
   "metadata": {
    "hidden": true
   },
   "outputs": [],
   "source": [
    "a = pd.Series(links)\n",
    "a.to_csv('links.csv')"
   ]
  },
  {
   "cell_type": "code",
   "execution_count": null,
   "metadata": {
    "ExecuteTime": {
     "end_time": "2020-10-15T23:26:35.063442Z",
     "start_time": "2020-10-15T23:26:34.804133Z"
    },
    "colab": {
     "base_uri": "https://localhost:8080/",
     "height": 1000
    },
    "executionInfo": {
     "elapsed": 771607,
     "status": "ok",
     "timestamp": 1601335949055,
     "user": {
      "displayName": "Julio Sales",
      "photoUrl": "https://lh3.googleusercontent.com/a-/AOh14GiZ4EayNk5u52hCWFM3YNb9UHu_FEvevLANMQPQQg=s64",
      "userId": "09300349995903618850"
     },
     "user_tz": 180
    },
    "hidden": true,
    "id": "tFPRSAhokNbt",
    "outputId": "e6e36b45-98c6-4c9c-d011-67ad55e1926e"
   },
   "outputs": [],
   "source": [
    "# Dividindo os dados, pois o scrapping de tantos sites demora dias\n",
    "links = pd.read_csv('links.csv', index_col='Unnamed: 0')\n",
    "links1 = links['0'].iloc[0:7865].tolist()\n",
    "links2 = links['0'].iloc[7865:15730].tolist()\n",
    "links3 = links['0'].iloc[15730:23595].tolist()\n",
    "links4 = links['0'].iloc[23595:31460].tolist()\n",
    "links5 = links['0'].iloc[31460:39325].tolist()\n",
    "links6 = links['0'].iloc[39325:47190].tolist()\n",
    "links7 = links['0'].iloc[47190:55055].tolist()\n",
    "links8 = links['0'].iloc[55055:62920].tolist()\n",
    "links9 = links['0'].iloc[62920:70785].tolist()\n",
    "links10 = links['0'].iloc[70785:78650].tolist()\n",
    "links11 = links['0'].iloc[78650:86515].tolist()\n",
    "links12 = links['0'].iloc[86515:94380].tolist()\n",
    "links13 = links['0'].iloc[94380:102245].tolist()\n",
    "links14 = links['0'].iloc[102245:110110].tolist()\n",
    "links15 = links['0'].iloc[110110:117975].tolist()\n",
    "links16 = links['0'].iloc[117975:125840].tolist()\n",
    "links17 = links['0'].iloc[125840:133705].tolist()\n",
    "links18 = links['0'].iloc[133705:141570].tolist()\n",
    "links19 = links['0'].iloc[141570:149435].tolist()\n",
    "links20 = links['0'].iloc[149435:157300].tolist()\n",
    "links21 = links['0'].iloc[157300:165165].tolist()\n",
    "links22 = links['0'].iloc[165165:173030].tolist()\n",
    "links23 = links['0'].iloc[173030:180895].tolist()\n",
    "links24 = links['0'].iloc[180895:188760].tolist()\n",
    "links25 = links['0'].iloc[188760:196625].tolist()"
   ]
  },
  {
   "cell_type": "markdown",
   "metadata": {
    "heading_collapsed": true
   },
   "source": [
    "# Coleta dos dados dos links coletados"
   ]
  },
  {
   "cell_type": "markdown",
   "metadata": {
    "heading_collapsed": true,
    "hidden": true
   },
   "source": [
    "## Objeto e preparo"
   ]
  },
  {
   "cell_type": "code",
   "execution_count": null,
   "metadata": {
    "ExecuteTime": {
     "end_time": "2020-10-15T23:26:36.032555Z",
     "start_time": "2020-10-15T23:26:36.004630Z"
    },
    "executionInfo": {
     "elapsed": 770681,
     "status": "ok",
     "timestamp": 1601335949448,
     "user": {
      "displayName": "Julio Sales",
      "photoUrl": "https://lh3.googleusercontent.com/a-/AOh14GiZ4EayNk5u52hCWFM3YNb9UHu_FEvevLANMQPQQg=s64",
      "userId": "09300349995903618850"
     },
     "user_tz": 180
    },
    "hidden": true,
    "id": "xNceAndokYCf"
   },
   "outputs": [],
   "source": [
    "# Scrapping para coletar os dados dos links\n",
    "class ColectRecipes():\n",
    "    def __init__(self, links, header):\n",
    "        self.links = links\n",
    "        self.header = header\n",
    "        self.columns = [\n",
    "            'LINK', 'RECEITA', 'TIPO', 'PREPARO', 'RENDIMENTO', 'INGREDIENTES',\n",
    "            'MODO DE PREPARO', 'FAVORITOS'\n",
    "        ]\n",
    "        self.dados = pd.DataFrame(data=[[1, 2, 3, 4, 5, 6, 7, 8]],\n",
    "                                  columns=self.columns)\n",
    "        self.dados = self.dados.iloc[:0]\n",
    "\n",
    "#   Coleta o html\n",
    "    def _get_html(self):\n",
    "        try:\n",
    "            self.req = Request(self.url, headers=self.header)\n",
    "            self.response = urlopen(self.req)\n",
    "            self.html = self.response.read()\n",
    "            self.soup = BeautifulSoup(self.html, 'html.parser')\n",
    "        except:\n",
    "            pass\n",
    "\n",
    "#   Coleta os dados e os coloca em um dataframe\n",
    "    def get_data(self):\n",
    "        for self.url in tqdm(self.links):\n",
    "            self._get_html()\n",
    "            self._get_receita()\n",
    "            self._get_tipo()\n",
    "            self._get_preparo()\n",
    "            self._get_rendimento()\n",
    "            self._get_ingredientes()\n",
    "            self._get_modo_preparo()\n",
    "            self._get_fav()\n",
    "            self.add = {\n",
    "                'LINK': self.url,\n",
    "                'RECEITA': self.receita,\n",
    "                'TIPO': self.tipo2,\n",
    "                'PREPARO': self.preparo,\n",
    "                'RENDIMENTO': self.rendimento,\n",
    "                'INGREDIENTES': self.ingrediente,\n",
    "                'MODO DE PREPARO': self.modo_preparo,\n",
    "                'FAVORITOS': self.fav\n",
    "            }\n",
    "            self.dados = self.dados.append(self.add, ignore_index=True)\n",
    "        return self.dados\n",
    "\n",
    "    def _get_receita(self):  # Coleta as receitas\n",
    "        try:\n",
    "            self.receita = str(self.soup.h1.get_text()).replace('\\n', ' ')\n",
    "        except:\n",
    "            self.receita = np.nan\n",
    "\n",
    "    def _get_fav(self):  # Coleta o número de favoritos\n",
    "        try:\n",
    "            self.fav = str(\n",
    "                self.soup.find('data').findNext('data').get_text()).replace(\n",
    "                    '\\n', ' ')\n",
    "        except:\n",
    "            self.fav = np.nan\n",
    "\n",
    "    def _get_tipo(self):  # Coleta o tipo da receita (vegetariano, saudável, etc)\n",
    "        try:\n",
    "            self.tipo2 = str(\n",
    "                self.soup.find('a',\n",
    "                               class_=\"type type-box\").get_text()).replace(\n",
    "                                   '\\n', ' ')\n",
    "        except:\n",
    "            self.tipo2 = np.nan\n",
    "\n",
    "    def _get_preparo(self):  # Coleta o tempo de preparo\n",
    "        try:\n",
    "            self.preparo = str(\n",
    "                self.soup.find('time',\n",
    "                               class_=\"dt-duration\").get_text()).replace(\n",
    "                                   '\\n', ' ')\n",
    "        except:\n",
    "            self.preparo = np.nan\n",
    "\n",
    "    def _get_rendimento(self):  # Coleta o número de porções\n",
    "        try:\n",
    "            self.rendimento = str(\n",
    "                self.soup.find('data',\n",
    "                               class_=\"p-yield num yield\").get_text()).replace(\n",
    "                                   '\\n', ' ')\n",
    "        except:\n",
    "            self.rendimento = np.nan\n",
    "\n",
    "    def _get_ingredientes(self):  # Coleta os ingredientes\n",
    "        try:\n",
    "            self.ingrediente = {}\n",
    "            self.div_ingredientes = self.soup.find(\n",
    "                'div', class_=\"col-lg-8 ingredients-card\")\n",
    "            \n",
    "#           Como existem variações da forma que os dados são inseridos no site,\n",
    "#           foi necessário prever algumas situações possíveis para os dados não ficarem confusos\n",
    "            if len(self.div_ingredientes.findAll('h3')) == 0:  # Caso não existam subdivisões\n",
    "                self.ingrediente_aux = [\n",
    "                    str(self.ing.get_text()).replace('\\n', ' ') for self.ing in\n",
    "                    self.div_ingredientes.findNext('ul').findAll('li')\n",
    "                ]\n",
    "                self.ingrediente = self.ingrediente_aux.copy()\n",
    "            else:  # Caso existam subdivisões\n",
    "                for self.item in self.div_ingredientes.findAll('h3'):\n",
    "                    self.tipo = str(self.item.get_text()).replace('\\n', ' ')\n",
    "                    self.ingrediente_aux = [\n",
    "                        str(self.ing.get_text()).replace('\\n', ' ')\n",
    "                        for self.ing in self.item.findNext('ul').findAll('li')\n",
    "                    ]\n",
    "                    self.ingrediente[self.tipo] = self.ingrediente_aux\n",
    "        except:\n",
    "            self.ingrediente = np.nan\n",
    "\n",
    "    def _get_modo_preparo(self):  # Coleta o modo de preparo\n",
    "        try:\n",
    "            self.modo_preparo = {}\n",
    "            self.div_modo_preparo = self.soup.find(\n",
    "                'div', class_=\"instructions e-instructions\")\n",
    "            \n",
    "#           Como existem variações da forma que os dados são inseridos no site,\n",
    "#           foi necessário prever algumas situações possíveis para os dados não ficarem confusos\n",
    "            if len(self.div_modo_preparo.findAll('h3')) == 0:  # Caso não existam subdivisões\n",
    "                self.modo_preparo_aux = [\n",
    "                    str(self.mp.get_text()).replace('\\n', ' ') for self.mp in\n",
    "                    self.div_modo_preparo.findNext('ol').findAll('li')\n",
    "                ]\n",
    "                self.modo_preparo = self.modo_preparo_aux.copy()\n",
    "            elif len(self.div_modo_preparo.findAll('h3')) == 1:  # Caso exista 1 subdivisão\n",
    "                self.modo_preparo['Receita'] = [\n",
    "                    str(self.mp.get_text()).replace('\\n', ' ') for self.mp in\n",
    "                    self.div_modo_preparo.findNext('ol').findAll('li')\n",
    "                ]\n",
    "                self.modo_preparo[str(\n",
    "                    self.div_modo_preparo.findNext('h3').get_text()).replace(\n",
    "                        '\\n', ' ')] = [\n",
    "                            str(self.mp.get_text()).replace('\\n', ' ')\n",
    "                            for self.mp in self.div_modo_preparo.findNext(\n",
    "                                'h3').findNext('li').findAll('span')\n",
    "                        ]\n",
    "            else:  # Caso existam várias subdivisões\n",
    "                for self.item in self.div_modo_preparo.findAll('h3'):\n",
    "                    self.tipo = str(self.item.get_text()).replace('\\n', ' ')\n",
    "                    if self.tipo == 'Informações Adicionais':\n",
    "                        self.modo_preparo[self.tipo] = [\n",
    "                            str(self.mp.get_text()).replace('\\n', ' ') for\n",
    "                            self.mp in self.item.findNext('li').findAll('span')\n",
    "                        ]\n",
    "                    else:\n",
    "                        self.modo_preparo_aux = [\n",
    "                            str(self.mp.get_text()).replace('\\n', ' ') for\n",
    "                            self.mp in self.item.findNext('ol').findAll('li')\n",
    "                        ]\n",
    "                        self.modo_preparo[self.tipo] = self.modo_preparo_aux\n",
    "        except:\n",
    "            self.modo_preparo = np.nan\n",
    "\n",
    "    def show_data(self):  # Exibe os dados\n",
    "        return self.dados"
   ]
  },
  {
   "cell_type": "code",
   "execution_count": null,
   "metadata": {
    "ExecuteTime": {
     "end_time": "2020-10-15T23:26:37.264500Z",
     "start_time": "2020-10-15T23:26:37.260511Z"
    },
    "hidden": true
   },
   "outputs": [],
   "source": [
    "header = {\n",
    "    'User-Agent':\n",
    "    'Mozilla/5.0 (Windows NT 10.0; Win64; x64) AppleWebKit/537.36 (KHTML, like Gecko) Chrome/84.0.4147.105 Safari/537.36'\n",
    "}"
   ]
  },
  {
   "cell_type": "markdown",
   "metadata": {
    "hidden": true
   },
   "source": [
    "Os dados foram divididos em 25 partes para evitar erros e dividir o trabalho em curtos espaços de tempo.\n",
    "\n",
    "Cada parte demorou de 3 a 4 horas pra ser executada"
   ]
  },
  {
   "cell_type": "markdown",
   "metadata": {
    "heading_collapsed": true,
    "hidden": true
   },
   "source": [
    "## Scrapping"
   ]
  },
  {
   "cell_type": "code",
   "execution_count": null,
   "metadata": {
    "colab": {
     "base_uri": "https://localhost:8080/",
     "height": 34
    },
    "hidden": true,
    "id": "nry4fcG8kwlX",
    "outputId": "4a6f1659-6573-4d3f-f55b-909b3322366f"
   },
   "outputs": [],
   "source": [
    "dados = ColectRecipes(links1, header)\n",
    "df = dados.get_data()\n",
    "df.to_json('ReceitasTudoGostoso1.json', orient='records')"
   ]
  },
  {
   "cell_type": "code",
   "execution_count": null,
   "metadata": {
    "colab": {
     "base_uri": "https://localhost:8080/",
     "height": 162
    },
    "executionInfo": {
     "elapsed": 1329,
     "status": "error",
     "timestamp": 1601378284563,
     "user": {
      "displayName": "Julio Sales",
      "photoUrl": "https://lh3.googleusercontent.com/a-/AOh14GiZ4EayNk5u52hCWFM3YNb9UHu_FEvevLANMQPQQg=s64",
      "userId": "09300349995903618850"
     },
     "user_tz": 180
    },
    "hidden": true,
    "id": "b01jYLJjqya5",
    "outputId": "6e43cb02-73dc-47c2-8adb-59807988de55"
   },
   "outputs": [],
   "source": [
    "dados = ColectRecipes(links2, header)\n",
    "df = dados.get_data()\n",
    "df.to_json('ReceitasTudoGostoso2.json', orient='records')"
   ]
  },
  {
   "cell_type": "code",
   "execution_count": null,
   "metadata": {
    "hidden": true,
    "id": "FtyUzMToi0SD"
   },
   "outputs": [],
   "source": [
    "dados = ColectRecipes(links3, header)\n",
    "df = dados.get_data()\n",
    "df.to_json('ReceitasTudoGostoso3.json', orient='records')"
   ]
  },
  {
   "cell_type": "code",
   "execution_count": null,
   "metadata": {
    "hidden": true
   },
   "outputs": [],
   "source": [
    "dados = ColectRecipes(links4, header)\n",
    "df = dados.get_data()\n",
    "df.to_json('ReceitasTudoGostoso4.json', orient='records')"
   ]
  },
  {
   "cell_type": "code",
   "execution_count": null,
   "metadata": {
    "hidden": true
   },
   "outputs": [],
   "source": [
    "dados = ColectRecipes(links5, header)\n",
    "df = dados.get_data()\n",
    "df.to_json('ReceitasTudoGostoso5.json', orient='records')"
   ]
  },
  {
   "cell_type": "code",
   "execution_count": null,
   "metadata": {
    "hidden": true
   },
   "outputs": [],
   "source": [
    "dados = ColectRecipes(links6, header)\n",
    "df = dados.get_data()\n",
    "df.to_json('ReceitasTudoGostoso6.json', orient='records')"
   ]
  },
  {
   "cell_type": "code",
   "execution_count": null,
   "metadata": {
    "hidden": true
   },
   "outputs": [],
   "source": [
    "dados = ColectRecipes(links7, header)\n",
    "df = dados.get_data()\n",
    "df.to_json('ReceitasTudoGostoso7.json', orient='records')"
   ]
  },
  {
   "cell_type": "code",
   "execution_count": null,
   "metadata": {
    "hidden": true
   },
   "outputs": [],
   "source": [
    "dados = ColectRecipes(links8, header)\n",
    "df = dados.get_data()\n",
    "df.to_json('ReceitasTudoGostoso8.json', orient='records')"
   ]
  },
  {
   "cell_type": "code",
   "execution_count": null,
   "metadata": {
    "hidden": true
   },
   "outputs": [],
   "source": [
    "dados = ColectRecipes(links9, header)\n",
    "df = dados.get_data()\n",
    "df.to_json('ReceitasTudoGostoso9.json', orient='records')"
   ]
  },
  {
   "cell_type": "code",
   "execution_count": null,
   "metadata": {
    "hidden": true
   },
   "outputs": [],
   "source": [
    "dados = ColectRecipes(links10, header)\n",
    "df = dados.get_data()\n",
    "df.to_json('ReceitasTudoGostoso10.json', orient='records')"
   ]
  },
  {
   "cell_type": "code",
   "execution_count": null,
   "metadata": {
    "hidden": true
   },
   "outputs": [],
   "source": [
    "dados = ColectRecipes(links11, header)\n",
    "df = dados.get_data()\n",
    "df.to_json('ReceitasTudoGostoso11.json', orient='records')"
   ]
  },
  {
   "cell_type": "code",
   "execution_count": null,
   "metadata": {
    "hidden": true
   },
   "outputs": [],
   "source": [
    "dados = ColectRecipes(links12, header)\n",
    "df = dados.get_data()\n",
    "df.to_json('ReceitasTudoGostoso12.json', orient='records')"
   ]
  },
  {
   "cell_type": "code",
   "execution_count": null,
   "metadata": {
    "hidden": true
   },
   "outputs": [],
   "source": [
    "dados = ColectRecipes(links13, header)\n",
    "df = dados.get_data()\n",
    "df.to_json('ReceitasTudoGostoso13.json', orient='records')"
   ]
  },
  {
   "cell_type": "code",
   "execution_count": null,
   "metadata": {
    "hidden": true
   },
   "outputs": [],
   "source": [
    "dados = ColectRecipes(links14, header)\n",
    "df = dados.get_data()\n",
    "df.to_json('ReceitasTudoGostoso14.json', orient='records')"
   ]
  },
  {
   "cell_type": "code",
   "execution_count": null,
   "metadata": {
    "hidden": true
   },
   "outputs": [],
   "source": [
    "dados = ColectRecipes(links15, header)\n",
    "df = dados.get_data()\n",
    "df.to_json('ReceitasTudoGostoso15.json', orient='records')"
   ]
  },
  {
   "cell_type": "code",
   "execution_count": null,
   "metadata": {
    "hidden": true
   },
   "outputs": [],
   "source": [
    "dados = ColectRecipes(links16, header)\n",
    "df = dados.get_data()\n",
    "df.to_json('ReceitasTudoGostoso16.json', orient='records')"
   ]
  },
  {
   "cell_type": "code",
   "execution_count": null,
   "metadata": {
    "hidden": true
   },
   "outputs": [],
   "source": [
    "dados = ColectRecipes(links17, header)\n",
    "df = dados.get_data()\n",
    "df.to_json('ReceitasTudoGostoso17.json', orient='records')"
   ]
  },
  {
   "cell_type": "code",
   "execution_count": null,
   "metadata": {
    "ExecuteTime": {
     "end_time": "2020-10-14T23:18:02.517253Z",
     "start_time": "2020-10-14T17:34:50.435121Z"
    },
    "hidden": true
   },
   "outputs": [],
   "source": [
    "dados = ColectRecipes(links18, header)\n",
    "df = dados.get_data()\n",
    "df.to_json('ReceitasTudoGostoso18.json', orient='records')"
   ]
  },
  {
   "cell_type": "code",
   "execution_count": null,
   "metadata": {
    "ExecuteTime": {
     "end_time": "2020-10-15T16:16:09.606667Z",
     "start_time": "2020-10-15T12:27:30.215200Z"
    },
    "hidden": true
   },
   "outputs": [],
   "source": [
    "dados = ColectRecipes(links19, header)\n",
    "df = dados.get_data()\n",
    "df.to_json('ReceitasTudoGostoso19.json', orient='records')"
   ]
  },
  {
   "cell_type": "code",
   "execution_count": null,
   "metadata": {
    "ExecuteTime": {
     "end_time": "2020-10-16T03:05:41.345418Z",
     "start_time": "2020-10-15T23:26:40.964664Z"
    },
    "hidden": true
   },
   "outputs": [],
   "source": [
    "dados = ColectRecipes(links20, header)\n",
    "df = dados.get_data()\n",
    "df.to_json('ReceitasTudoGostoso20.json', orient='records')"
   ]
  },
  {
   "cell_type": "code",
   "execution_count": null,
   "metadata": {
    "ExecuteTime": {
     "end_time": "2020-10-16T06:23:23.344071Z",
     "start_time": "2020-10-16T03:05:41.426271Z"
    },
    "hidden": true
   },
   "outputs": [],
   "source": [
    "dados = ColectRecipes(links21, header)\n",
    "df = dados.get_data()\n",
    "df.to_json('ReceitasTudoGostoso21.json', orient='records')"
   ]
  },
  {
   "cell_type": "code",
   "execution_count": null,
   "metadata": {
    "ExecuteTime": {
     "end_time": "2020-10-16T09:30:50.858404Z",
     "start_time": "2020-10-16T06:23:23.424852Z"
    },
    "hidden": true
   },
   "outputs": [],
   "source": [
    "dados = ColectRecipes(links22, header)\n",
    "df = dados.get_data()\n",
    "df.to_json('ReceitasTudoGostoso22.json', orient='records')"
   ]
  },
  {
   "cell_type": "code",
   "execution_count": null,
   "metadata": {
    "ExecuteTime": {
     "end_time": "2020-10-16T12:51:06.395992Z",
     "start_time": "2020-10-16T09:30:50.934257Z"
    },
    "hidden": true
   },
   "outputs": [],
   "source": [
    "dados = ColectRecipes(links23, header)\n",
    "df = dados.get_data()\n",
    "df.to_json('ReceitasTudoGostoso23.json', orient='records')"
   ]
  },
  {
   "cell_type": "code",
   "execution_count": null,
   "metadata": {
    "ExecuteTime": {
     "start_time": "2020-10-15T23:26:52.666Z"
    },
    "hidden": true
   },
   "outputs": [],
   "source": [
    "dados = ColectRecipes(links24, header)\n",
    "df = dados.get_data()\n",
    "df.to_json('ReceitasTudoGostoso24.json', orient='records')"
   ]
  },
  {
   "cell_type": "code",
   "execution_count": null,
   "metadata": {
    "ExecuteTime": {
     "start_time": "2020-10-15T23:26:53.434Z"
    },
    "hidden": true
   },
   "outputs": [],
   "source": [
    "dados = ColectRecipes(links25, header)\n",
    "df = dados.get_data()\n",
    "df.to_json('ReceitasTudoGostoso25.json', orient='records')"
   ]
  }
 ],
 "metadata": {
  "colab": {
   "authorship_tag": "ABX9TyOV0yI0LThoMhEM3FFVPYRu",
   "collapsed_sections": [],
   "name": "Scrapping tudo gostoso.ipynb",
   "provenance": []
  },
  "kernelspec": {
   "display_name": "Python 3",
   "language": "python",
   "name": "python3"
  },
  "language_info": {
   "codemirror_mode": {
    "name": "ipython",
    "version": 3
   },
   "file_extension": ".py",
   "mimetype": "text/x-python",
   "name": "python",
   "nbconvert_exporter": "python",
   "pygments_lexer": "ipython3",
   "version": "3.7.4"
  },
  "varInspector": {
   "cols": {
    "lenName": 16,
    "lenType": 16,
    "lenVar": 40
   },
   "kernels_config": {
    "python": {
     "delete_cmd_postfix": "",
     "delete_cmd_prefix": "del ",
     "library": "var_list.py",
     "varRefreshCmd": "print(var_dic_list())"
    },
    "r": {
     "delete_cmd_postfix": ") ",
     "delete_cmd_prefix": "rm(",
     "library": "var_list.r",
     "varRefreshCmd": "cat(var_dic_list()) "
    }
   },
   "types_to_exclude": [
    "module",
    "function",
    "builtin_function_or_method",
    "instance",
    "_Feature"
   ],
   "window_display": false
  }
 },
 "nbformat": 4,
 "nbformat_minor": 1
}
